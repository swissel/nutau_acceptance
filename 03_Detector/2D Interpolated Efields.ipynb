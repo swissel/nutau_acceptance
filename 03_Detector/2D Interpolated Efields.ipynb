{
 "cells": [
  {
   "cell_type": "code",
   "execution_count": 1,
   "metadata": {
    "scrolled": false
   },
   "outputs": [
    {
     "name": "stdout",
     "output_type": "stream",
     "text": [
      "/Users/wissels/Dropbox/MountainTop/harms_sims/npz_files/\n"
     ]
    }
   ],
   "source": [
    "import csv\n",
    "import pandas as pd\n",
    "import numpy as np\n",
    "#import filters  # THIS LIBRARY IS NOT INCLUDED IN THE REPOSITORY\n",
    "import matplotlib.pyplot as pyp\n",
    "import scipy.signal as signal\n",
    "import numpy.fft as fft\n",
    "import os         # ADD THIS SO WE CAN USE ENVIRONMENT VARIABLES\n",
    "import matplotlib\n",
    "from scipy.optimize import curve_fit\n",
    "import scipy.optimize\n",
    "from scipy.interpolate import interp1d\n",
    "%matplotlib inline\n",
    "\n",
    "#print os.environ\n",
    "print os.environ.get('TAU_ACC_ZHAIRES_DIR')\n",
    "#print os.environ['TAU_ACC_ZHAIRES_DIR']"
   ]
  },
  {
   "cell_type": "code",
   "execution_count": 2,
   "metadata": {
    "collapsed": true,
    "scrolled": true
   },
   "outputs": [],
   "source": [
    "pastel_colors = ['#FF6666','#FFCC66','#CCFF66','#66FF66','#66FFCC','#66FFFF','#66CCFF','#6666FF','#CC66FF','#FF66FF','#FF6FCF']\n",
    "bright_colors = ['#FF0000','#FF8000','#FFFF00','#80FF00','#00FF00','#00FF80','#00FFFF','#0080FF','#0000FF','#8000FF','#FF00FF']\n",
    "bright_colors2 = bright_colors = ['#FF0000','#FF8000','#80FF00','#00FF80','#0080FF','#0000FF','#8000FF','#FF00FF','#FF0080']\n",
    "pyp.rcParams['font.size']=11\n",
    "pyp.rcParams['legend.labelspacing'] = 0.1\n",
    "cmap = matplotlib.cm.get_cmap('inferno')"
   ]
  },
  {
   "cell_type": "code",
   "execution_count": 3,
   "metadata": {
    "collapsed": true,
    "scrolled": true
   },
   "outputs": [],
   "source": [
    "#### Should move this to a library"
   ]
  },
  {
   "cell_type": "code",
   "execution_count": 4,
   "metadata": {
    "collapsed": true,
    "scrolled": true
   },
   "outputs": [],
   "source": [
    "def temp(f_MHz):\n",
    "    # Dulk 2001\n",
    "    nu = f_MHz # Hz\n",
    "    tau = 5.0 * pow(nu, -2.1)\n",
    "    Ieg = 1.0610e-20\n",
    "    Ig  = 2.48e-20\n",
    "    # Iv in  W/m^2/Hz/sr\n",
    "    Iv = Ig * pow(nu, -0.52) * (1-np.exp(-tau))/tau + Ieg * pow(nu, -0.80) * np.exp(-tau)\n",
    "    \n",
    "    kB = 1.38064852e-23 # Watts / Hz / K\n",
    "    c = 299792458 # m/s\n",
    "    temp = Iv * c**2 / (2*(nu*1e6)**2)/kB\n",
    "\n",
    "    return Iv, temp # W/m^2/Hz/sr, K\n",
    "\n",
    "def read_npz_files(antenna_height, zenith):\n",
    "    npzfile = np.load(os.environ['TAU_ACC_ZHAIRES_DIR'] + \"/\" + \"altitude_%dkm_zenith_%d.npz\"%(antenna_height, zenith))\n",
    "    efield_td = npzfile['efield_td'][()] ## for some reason just reading the arrays gives a 0-dim array, so skip this.\n",
    "    efield_fd = npzfile['efield_fd'][()]\n",
    "    return efield_td, efield_fd"
   ]
  },
  {
   "cell_type": "code",
   "execution_count": 5,
   "metadata": {
    "collapsed": true,
    "scrolled": true
   },
   "outputs": [],
   "source": [
    "# WANT TO INTERPOLATE THE EFIELDS AT\n",
    "# ALL ZENITH ANGLES, PSI ANGLES, and STARTING FREQUENCYS\n",
    "# FOR 10-MHz SUBBANDS\n",
    "\n",
    "def band_peak_efield(efield, freq, f_LO, bandwidth):\n",
    "    df = freq[1]-freq[0]\n",
    "    cut = np.logical_and(freq>=f_LO, freq<=f_LO + bandwidth)\n",
    "    return np.sum(np.abs(efield[cut]))*df\n",
    "\n",
    "def efield_vs_angle(h, z, f_Lo_list, bandwidth):\n",
    "\n",
    "    off_angle_array = np.arange(0.04,80*0.04, 0.04)\n",
    "    i_off_angle_array = range(1, len(off_angle_array)+1)\n",
    "    epeak_list = np.zeros((len(f_Lo_list), len(i_off_angle_array)))\n",
    "    cc = 0\n",
    "    for i_offangle in i_off_angle_array:\n",
    "        #if(i_offangle%10==0): print i_offangle\n",
    "        offangle = off_angle_array[i_offangle-1]\n",
    "        efield_td, efield_fd = read_npz_files(h,z)\n",
    "        efield = efield_td[i_offangle]['y_v_per_m']\n",
    "        time = efield_td[i_offangle]['time_s']\n",
    "        time -= time[0]\n",
    "        dt = time[1]-time[0]\n",
    "        E_fft = np.fft.rfft(efield)*dt*1.e6 # use dt in µs so that fft is in units of V/m/MHz\n",
    "        fr = np.fft.rfftfreq(len(efield), dt*1.e6) # frequencies in MHz\n",
    "        for i_f_Lo in range(0,len(f_Lo_list)):\n",
    "            f_Lo = f_Lo_list[i_f_Lo]\n",
    "            epeak_list[i_f_Lo, cc] = band_peak_efield(E_fft, fr, f_Lo, bandwidth)\n",
    "        cc+=1\n",
    "    #pyp.figure(3)\n",
    "    #pyp.plot(off_angle_array, voltage_SNR, 'ko')\n",
    "    return off_angle_array, epeak_list"
   ]
  },
  {
   "cell_type": "code",
   "execution_count": 6,
   "metadata": {},
   "outputs": [],
   "source": [
    "h = 1\n",
    "zenith_list = np.array([60, 70, 75, 80, 85, 87])\n",
    "f_Lo_list = np.arange(10., 1610., 10.)\n",
    "bandwidth = 10.\n",
    "\n",
    "###\n",
    "# Construct an array of the peak efield for a range of starting frequencies\n",
    "# and bandwidths and psi angles\n",
    "## Shape of the array is \n",
    "##  [zenith angle [60,70,75,80,85, starting_frequency (10-1600 MHz in 10 MHz steps), bandwidth (10 MHz), off_angles (0.04-3.2 in 0.04 deg steps)]\n",
    "\n",
    "epeak_array = []\n",
    "for z in zenith_list:\n",
    "    psi_list, epeak_list = efield_vs_angle(h, z, f_Lo_list, bandwidth)\n",
    "    epeak_array.append(epeak_list)\n",
    "    \n",
    "epeak_array = np.array(epeak_array)\n"
   ]
  },
  {
   "cell_type": "markdown",
   "metadata": {},
   "source": [
    "###################################\n",
    "\n",
    " Let's see what we're up against\n",
    " \n",
    " By looking at heat maps of slices of the data\n",
    " \n",
    "##################################\n",
    "\n",
    "Dimensions of the data set include:\n",
    "\n",
    "    + zenith angle (sparse, [60.70.75,80,85,87])\n",
    "    + starting frequency (f_Lo) [10-1610 MHz in 10 Mhz steps] -- storing \n",
    "    + bandwidth (bandwidth) [just 10 MHz, so single element array]\n",
    "    + psi angle / view angle (0.04 to 3.2° in 0.04 steps)\n"
   ]
  },
  {
   "cell_type": "code",
   "execution_count": 7,
   "metadata": {},
   "outputs": [
    {
     "ename": "NameError",
     "evalue": "name 'bandwidth_list' is not defined",
     "output_type": "error",
     "traceback": [
      "\u001b[0;31m---------------------------------------------------------------------------\u001b[0m",
      "\u001b[0;31mNameError\u001b[0m                                 Traceback (most recent call last)",
      "\u001b[0;32m<ipython-input-7-2f0977ea14e0>\u001b[0m in \u001b[0;36m<module>\u001b[0;34m()\u001b[0m\n\u001b[0;32m----> 1\u001b[0;31m \u001b[0;32mprint\u001b[0m \u001b[0;34m(\u001b[0m\u001b[0mlen\u001b[0m\u001b[0;34m(\u001b[0m\u001b[0mzenith_list\u001b[0m\u001b[0;34m)\u001b[0m\u001b[0;34m,\u001b[0m \u001b[0mlen\u001b[0m\u001b[0;34m(\u001b[0m\u001b[0mf_Lo_list\u001b[0m\u001b[0;34m)\u001b[0m\u001b[0;34m,\u001b[0m \u001b[0mlen\u001b[0m\u001b[0;34m(\u001b[0m\u001b[0mbandwidth_list\u001b[0m\u001b[0;34m)\u001b[0m\u001b[0;34m,\u001b[0m \u001b[0mlen\u001b[0m\u001b[0;34m(\u001b[0m\u001b[0mpsi_list\u001b[0m\u001b[0;34m)\u001b[0m\u001b[0;34m)\u001b[0m\u001b[0;34m\u001b[0m\u001b[0m\n\u001b[0m\u001b[1;32m      2\u001b[0m \u001b[0;32mprint\u001b[0m \u001b[0mnp\u001b[0m\u001b[0;34m.\u001b[0m\u001b[0mshape\u001b[0m\u001b[0;34m(\u001b[0m\u001b[0mepeak_array\u001b[0m\u001b[0;34m)\u001b[0m\u001b[0;34m\u001b[0m\u001b[0m\n",
      "\u001b[0;31mNameError\u001b[0m: name 'bandwidth_list' is not defined"
     ]
    }
   ],
   "source": [
    "print (len(zenith_list), len(f_Lo_list), len(bandwidth_list), len(psi_list))\n",
    "print np.shape(epeak_array)"
   ]
  },
  {
   "cell_type": "code",
   "execution_count": null,
   "metadata": {
    "collapsed": true
   },
   "outputs": [],
   "source": [
    "def epeak_zenith_angle_slice(i_ze, epeak_array):\n",
    "    return epeak_array[i_ze,:, :] \n",
    "def epeak_start_freq_slice(i_f_Lo, epeak_array):\n",
    "    return epeak_array[:,i_f_Lo,:] \n",
    "def epeak_psi_angle_slice(i_psi, epeak_array):\n",
    "    return epeak_array[:,:,i_psi] "
   ]
  },
  {
   "cell_type": "code",
   "execution_count": null,
   "metadata": {},
   "outputs": [],
   "source": [
    "### Plot epeak vs zenith angle vs psi angle for fixed starting frequ(ency\n",
    "choose_start_freq = [10., 30., 50., 200., 300., 1000.]\n",
    "#ind = [np.where(f_Lo_list == choose_start_freq[i])[0][0] for i in range(len(choose_start_freq))]\n",
    "ind = [1, 3, 5, 8, 20, 30]\n",
    "titles = [\"%d MHz\"%(freq) for freq in choose_start_freq]\n",
    "fig = pyp.figure(1, figsize=(12,8))\n",
    "pyp.subplots_adjust(hspace=0.3, wspace=0.4)\n",
    "\n",
    "choose_start_freq = [10., 30., 50., 200., 300., 1000.]\n",
    "titles = [\"%d MHz\"%(freq) for freq in choose_start_freq]\n",
    "fig = pyp.figure(1, figsize=(12,8))\n",
    "pyp.subplots_adjust(hspace=0.3, wspace=0.4)\n",
    "\n",
    "for i,freq in enumerate(choose_start_freq):\n",
    "    i_f_Lo = int(freq/10)\n",
    "    ax = pyp.subplot(2,3,i+1)\n",
    "    #ax.set_xscale('log')\n",
    "    #ax.set_yscale('log')\n",
    "    p, zenith = np.meshgrid( psi_list, zenith_list)\n",
    "    #H=epeak_array[:, ind[i_f_Lo], 0, :]*1e6\n",
    "    H = epeak_start_freq_slice(i_f_Lo, epeak_array)*1e6\n",
    "    Hmasked = np.ma.masked_where(H==0,H) # Mask pixels with a value of zero\n",
    "    pyp.pcolormesh(p, zenith, Hmasked, cmap='inferno', )\n",
    "    pyp.ylim(zenith_list.min(), zenith_list.max())\n",
    "    pyp.xlim(psi_list.min(), psi_list.max())\n",
    "    pyp.colorbar(label=\"Peak E-field ($\\mu V/m$)\")\n",
    "    pyp.ylabel('Zenith Angle (deg.)')\n",
    "    pyp.xlabel('$\\psi$ (deg.)')\n",
    "    pyp.grid(True, which='both')\n",
    "    pyp.title(titles[i])\n",
    "pyp.savefig(os.environ['TAU_ACC_DETECTOR_PLOTS_DIR'] + \"/efield_maps_altitude%dkm_ze_vs_psi.png\"%(h) )"
   ]
  },
  {
   "cell_type": "code",
   "execution_count": null,
   "metadata": {},
   "outputs": [],
   "source": [
    "### Second plot will be epeak vs zenith angle vs starting frequency for fixed psi angle\n",
    "ind = [0, 11, 27, 35, 47, 63]\n",
    "choose_psi = psi_list[ind]\n",
    "titles = [\"$\\psi$=%2.2f deg.\"%(p) for p in choose_psi]\n",
    "fig = pyp.figure(1, figsize=(12,8))\n",
    "pyp.subplots_adjust(hspace=0.3, wspace=0.4)\n",
    "\n",
    "for i, p in enumerate(choose_psi):\n",
    "    i_psi = ind[i]\n",
    "    ax = pyp.subplot(2,3,i+1)\n",
    "    ax.set_xscale('log')\n",
    "    #ax.set_yscale('log')\n",
    "    start_freq, zenith = np.meshgrid(  f_Lo_list, zenith_list)\n",
    "    #H=epeak_array[:, :, 0, i_psi]*1e6\n",
    "    H = epeak_psi_angle_slice(i_psi, epeak_array)*1e6\n",
    "    Hmasked = np.ma.masked_where(H==0,H) # Mask pixels with a value of zero\n",
    "    pyp.pcolormesh(start_freq, zenith, Hmasked, cmap='inferno', )\n",
    "    pyp.ylim(zenith_list.min(), zenith_list.max())\n",
    "    pyp.xlim(f_Lo_list.min(), f_Lo_list.max())\n",
    "    pyp.colorbar(label=\"Peak E-field ($\\mu V/m$)\")\n",
    "    pyp.ylabel('Zenith Angle (deg.)')\n",
    "    pyp.xlabel('Starting Frequency (MHz)')\n",
    "    pyp.grid(True, which='both')\n",
    "    pyp.title(titles[i])\n",
    "pyp.savefig(os.environ['TAU_ACC_DETECTOR_PLOTS_DIR'] + \"/efield_maps_altitude%dkm_startfreq_vs_ze.png\"%(h) )"
   ]
  },
  {
   "cell_type": "code",
   "execution_count": null,
   "metadata": {},
   "outputs": [],
   "source": [
    "### Third plot will be epeak vs starting frequency vs psi_list for fixed psi angles\n",
    "ind = [0,1,2,3,4,5]\n",
    "choose_zenith = zenith_list[ind]\n",
    "titles = [\"Zenith %d deg.\"%(int(z)) for z in choose_zenith]\n",
    "fig = pyp.figure(1, figsize=(12,8))\n",
    "pyp.subplots_adjust(hspace=0.3, wspace=0.5)\n",
    "\n",
    "for i_ze, ze in enumerate(choose_zenith):\n",
    "    ax = pyp.subplot(2,3,i_ze+1)\n",
    "    #ax.set_xscale('log')\n",
    "    ax.set_yscale('log')\n",
    "    p, start_freq = np.meshgrid(psi_list, f_Lo_list)\n",
    "    #H=epeak_array[i_ze, :, 0, :]*1e6\n",
    "    H = epeak_zenith_angle_slice(i_ze, epeak_array)*1e6\n",
    "    Hmasked = np.ma.masked_where(H==0,H) # Mask pixels with a value of zero\n",
    "    pyp.pcolormesh( p,start_freq, Hmasked, cmap='inferno', )\n",
    "    pyp.xlim(psi_list.min(), psi_list.max())\n",
    "    pyp.ylim(f_Lo_list.min(), f_Lo_list.max())\n",
    "    pyp.colorbar(label=\"Peak E-field ($\\mu V/m$)\")\n",
    "    pyp.xlabel('$\\psi$ (deg.)')\n",
    "    pyp.ylabel('Start Frequency (MHz)')\n",
    "    pyp.grid(True, which='both')\n",
    "    pyp.title(titles[i_ze])\n",
    "pyp.savefig(os.environ['TAU_ACC_DETECTOR_PLOTS_DIR'] + \"/efield_maps_altitude%dkm_startfreq_psi.png\"%(h) )"
   ]
  },
  {
   "cell_type": "code",
   "execution_count": null,
   "metadata": {
    "collapsed": true
   },
   "outputs": [],
   "source": [
    "#############\n",
    "# Now look at 2d slices"
   ]
  },
  {
   "cell_type": "code",
   "execution_count": null,
   "metadata": {},
   "outputs": [],
   "source": [
    "#### This is a test of the linear interpolator in two dimensions.\n",
    "### You can adjust the frequency by changing i_f_Lo, the index\n",
    "### to f_Lo_list. i_f_Lo x 10 = the frequency to interpolate the \n",
    "### curvesin MHz\n",
    "i_f_Lo = 30\n",
    "zz,  pp = np.meshgrid(zenith_list, psi_list)\n",
    "interpolator = scipy.interpolate.LinearNDInterpolator(\n",
    "    np.vstack((zz.flatten(), pp.flatten())).T, \n",
    "              epeak_array[:,i_f_Lo,:].T.flatten()\n",
    "             )  \n",
    "print interpolator(75, 0.5)\n",
    "print np.vstack((zz.flatten(), pp.flatten())).T[0] "
   ]
  },
  {
   "cell_type": "code",
   "execution_count": null,
   "metadata": {},
   "outputs": [],
   "source": [
    "#### In this figure, the thick solid lines are the values from the simulatiosn\n",
    "#### the dashed lines are from the interpolator.\n",
    "epeak_zen = epeak_start_freq_slice(i_f_Lo, epeak_array)*1e6\n",
    "norm = matplotlib.colors.Normalize(vmin=65, vmax=87)\n",
    "for i_ze, ze in enumerate(zenith_list):\n",
    "    pyp.plot(psi_list, epeak_zen[ i_ze, :], color = cmap(norm(ze)), linewidth=3,\n",
    "             label=\"%d$^{\\circ}$\"%(int(ze)))\n",
    "    \n",
    "for ze in np.arange(63, 90, 5):\n",
    "    pyp.plot(psi_list, interpolator( ze, psi_list,)*1e6, \n",
    "             color=cmap(norm(ze)), linestyle='--', label=\"%d$^{\\circ}$\"%(int(ze)))\n",
    "pyp.xlabel(\" $\\psi$ (deg.)\")\n",
    "pyp.ylabel(\"Peak E-field ($\\mu V/m$)\")\n",
    "pyp.xlim(psi_list.min(), psi_list.max())\n",
    "pyp.ylim(0,)\n",
    "pyp.legend(loc=[1.01, 0.1])\n",
    "pyp.title(\"%d MHz\"%((int(f_Lo_list[i_f_Lo]))))"
   ]
  },
  {
   "cell_type": "code",
   "execution_count": null,
   "metadata": {},
   "outputs": [],
   "source": [
    "#### This is a test of the linear interpolator in two dimensions.\n",
    "### You can adjust the zenith angle by changing i_ze, the index\n",
    "### to zenith_list. There are 6 non-uniform zenith angle bins \n",
    "### [60,70,75,80,85,87] deg. \n",
    "\n",
    "i_ze = 4\n",
    "ff,  pp = np.meshgrid(f_Lo_list, psi_list)\n",
    "interpolator = scipy.interpolate.LinearNDInterpolator(\n",
    "    np.vstack((ff.flatten(), pp.flatten())).T, \n",
    "              epeak_array[i_ze,:,:].T.flatten()\n",
    "             )  \n",
    "print interpolator(600, 0.5)"
   ]
  },
  {
   "cell_type": "code",
   "execution_count": null,
   "metadata": {},
   "outputs": [],
   "source": [
    "#### In this figure, the thick solid lines are the values from the simulatiosn\n",
    "#### the dashed lines are from the interpolator.\n",
    "\n",
    "epeak_freq = epeak_zenith_angle_slice(i_ze, epeak_array)*1e6\n",
    "norm = matplotlib.colors.Normalize(vmin=10, vmax=1600)\n",
    "nstep=10\n",
    "for i_f_Lo, f_Lo in enumerate(f_Lo_list[0::nstep]):\n",
    "    pyp.plot(psi_list, epeak_freq[ i_f_Lo*nstep, :], color = cmap(norm(f_Lo)), linewidth=3,\n",
    "            label=\"%d MHz\"%(int(f_Lo)))\n",
    "\n",
    "for f_Lo in np.array([15, 35, 75, 95, 263, 340, 675, 1025]):\n",
    "    pyp.plot(psi_list, interpolator( f_Lo, psi_list,)*1e6, \n",
    "             color=cmap(norm(f_Lo)), linestyle='--', label=\"%d MHz\"%(int(f_Lo)))\n",
    "\n",
    "pyp.xlim(psi_list.min(), psi_list.max())\n",
    "pyp.ylim(0,)\n",
    "pyp.legend(loc=[1.01, 0])\n",
    "pyp.xlabel(\" $\\psi$ (deg.)\")\n",
    "pyp.ylabel(\"Peak E-field ($\\mu V/m$)\")\n",
    "pyp.title(\"Zenith %d$^{\\circ}$\"%(int(zenith_list[i_ze])))"
   ]
  },
  {
   "cell_type": "code",
   "execution_count": null,
   "metadata": {},
   "outputs": [],
   "source": [
    "#### This is a test of the linear interpolator in two dimensions.\n",
    "### You can adjust the psi angle by changing i_psi, the index\n",
    "### to psi_list. There are 80 points in 0.04 deg spacing \n",
    "### from 0.01 to 3.2 deg. \n",
    "\n",
    "i_psi = 28\n",
    "zz, ff = np.meshgrid(zenith_list, f_Lo_list)\n",
    "interpolator = scipy.interpolate.LinearNDInterpolator(\n",
    "    np.vstack((zz.flatten(), ff.flatten())).T, \n",
    "              epeak_array[:,:,i_psi].T.flatten()\n",
    "             )  \n",
    "print interpolator(63, 525)"
   ]
  },
  {
   "cell_type": "code",
   "execution_count": null,
   "metadata": {},
   "outputs": [],
   "source": [
    "#### In this figure, the thick solid lines are the values from the simulatiosn\n",
    "#### the dashed lines are from the interpolator.\n",
    "pyp.figure(1)\n",
    "epeak_psi = epeak_psi_angle_slice(i_psi, epeak_array)*1e6\n",
    "norm = matplotlib.colors.Normalize(vmin=10, vmax=1600)\n",
    "nstep=10\n",
    "for i_f_Lo, f_Lo in enumerate(f_Lo_list[0::nstep]):\n",
    "    pyp.plot(zenith_list, epeak_psi[ :, i_f_Lo*nstep], color = cmap(norm(f_Lo)), linewidth=3,\n",
    "            label=\"%d MHz\"%(int(f_Lo)))\n",
    "\n",
    "for f_Lo in np.array([15, 35, 75, 95, 263, 340, 675, 1025]):\n",
    "    pyp.plot(zenith_list, interpolator(zenith_list, f_Lo)*1e6, \n",
    "             color=cmap(norm(f_Lo)), linestyle='--', label=\"%d MHz\"%(int(f_Lo)))    \n",
    "\n",
    "pyp.xlim(zenith_list.min(), zenith_list.max())\n",
    "pyp.ylim(0,)\n",
    "pyp.xlabel(\"Zenith Angle (deg.)\")\n",
    "pyp.ylabel(\"Peak E-field ($\\mu V/m$)\")\n",
    "pyp.legend(loc=[1.01, 0.])\n",
    "pyp.title(\"$\\psi$ %2.2f$^{\\circ}$\"%(int(psi_list[i_psi])))\n",
    "\n",
    "pyp.figure(2)\n",
    "epeak_zen = epeak_array[:,:,i_psi]*1e6\n",
    "norm = matplotlib.colors.Normalize(vmin=65, vmax=87)\n",
    "for i_ze, ze in enumerate(zenith_list):\n",
    "    pyp.semilogx(f_Lo_list, epeak_zen[ i_ze, :], color = cmap(norm(ze)), linewidth=3,\n",
    "             label=\"%d$^{\\circ}$\"%(int(ze)))\n",
    "    \n",
    "for ze in np.arange(63, 90, 5):\n",
    "    pyp.semilogx(f_Lo_list, interpolator( ze, f_Lo_list)*1e6, \n",
    "             color=cmap(norm(ze)), linestyle='--', label=\"%d$^{\\circ}$\"%(int(ze)))\n",
    "    \n",
    "pyp.xlim(f_Lo_list.min(), f_Lo_list.max())\n",
    "pyp.ylim(0,)\n",
    "pyp.xlabel(\"Frequency (MHz)\")\n",
    "pyp.ylabel(\"Peak E-field ($\\mu V/m$)\")\n",
    "pyp.legend(loc=[1.01, 0.])\n",
    "pyp.title(\"$\\psi$ %2.2f$^{\\circ}$\"%(int(psi_list[i_psi])))"
   ]
  },
  {
   "cell_type": "code",
   "execution_count": null,
   "metadata": {
    "collapsed": true
   },
   "outputs": [],
   "source": [
    "#############\n",
    "# Write all of the frequency steps to a file\n",
    "interp_file = open(os.environ['TAU_ACC_ZHAIRES_DIR']\\\n",
    "                       +'/interpolator_efields_%dkm.npz'%h, 'w')\n",
    "\n",
    "interpolator_list = []\n",
    "for i_f_Lo, f_Lo in enumerate(f_Lo_list):\n",
    "    zz,  pp = np.meshgrid(zenith_list, psi_list)\n",
    "    interpolator = scipy.interpolate.LinearNDInterpolator(\n",
    "        np.vstack((zz.flatten(), pp.flatten())).T, \n",
    "                  epeak_array[:,i_f_Lo,:].T.flatten()\n",
    "                     )\n",
    "    interpolator_list.append(interpolator)\n",
    "np.savez(interp_file, efield_interpolator_list=interpolator_list)\n",
    "interp_file.close()"
   ]
  },
  {
   "cell_type": "code",
   "execution_count": null,
   "metadata": {
    "collapsed": true
   },
   "outputs": [],
   "source": [
    "##############\n",
    "## Now interpolate in all three dimensions"
   ]
  },
  {
   "cell_type": "code",
   "execution_count": null,
   "metadata": {},
   "outputs": [],
   "source": [
    "#### This is a test of the linear interpolator in three dimensions.\n",
    "points = []\n",
    "values = []\n",
    "c=0\n",
    "for i_z,z in enumerate(zenith_list):\n",
    "    for i_f,f in enumerate(f_Lo_list):\n",
    "        for i_p,p in enumerate(psi_list):\n",
    "            points.append( [z,f,p] )\n",
    "            values.append(epeak_array[i_z, i_f, 0, i_p])\n",
    "\n",
    "interpolator = scipy.interpolate.LinearNDInterpolator(points, values)\n",
    "print interpolator(63, 32, 0.5)"
   ]
  },
  {
   "cell_type": "code",
   "execution_count": null,
   "metadata": {},
   "outputs": [],
   "source": [
    "i_ze = 5\n",
    "i_f_Lo = 6\n",
    "print i_ze, zenith_list[i_ze]\n",
    "print i_f_Lo, f_Lo_list[i_f_Lo]\n",
    "pyp.figure(1)\n",
    "epeak_zen = epeak_zenith_angle_slice(i_ze, epeak_array)*1e6\n",
    "norm = matplotlib.colors.Normalize(vmin=10, vmax=1600)\n",
    "for f_Lo in range(1, 160, 30):\n",
    "    pyp.plot(psi_list, epeak_zen[ f_Lo, :], color = cmap(norm(f_Lo_list[f_Lo])), linewidth=2,\n",
    "            label=\"%d MHz\"%(int(f_Lo_list[f_Lo])))\n",
    "    #pyp.plot(psi_list, interpolator(87, f_Lo_list[i_f_Lo], psi_list)*1e6, color = cmap(norm(i_f_Lo)), linewidth=2)\n",
    "\n",
    "    \n",
    "for f_Lo in np.array([15, 35, 75, 95, 263, 340, 675, 1025]):\n",
    "    pyp.plot(psi_list, interpolator(zenith_list[i_ze], f_Lo, psi_list)*1e6, \n",
    "             color=cmap(norm(f_Lo)), linestyle='--', label=\"%d MHz\"%(int(f_Lo)))   \n",
    "pyp.legend(loc=[1.01,0])\n",
    "pyp.xlabel(\" $\\psi$ (deg.)\")\n",
    "pyp.ylabel(\"Peak E-field ($\\mu V/m$)\")\n",
    "pyp.xlim(psi_list.min(), psi_list.max())\n",
    "pyp.ylim(0,)\n",
    "pyp.title(\"Zenith %d$^{\\circ}$\"%(int(zenith_list[i_ze])))\n",
    "pyp.savefig(os.environ['TAU_ACC_DETECTOR_PLOTS_DIR'] + \"/3dinterp_efield_maps_altitude%dkm_psi_ze%d.png\"%(h, int(zenith_list[i_ze], )) )\n",
    "\n",
    "pyp.figure(2)\n",
    "epeak_zen = epeak_start_freq_slice(i_f_Lo, epeak_array)*1e6\n",
    "norm = matplotlib.colors.Normalize(vmin=65, vmax=87)\n",
    "for i_ze, ze in enumerate(zenith_list):\n",
    "    pyp.plot(psi_list, epeak_zen[ i_ze, :], color = cmap(norm(ze)), linewidth=3,\n",
    "             label=\"%d$^{\\circ}$\"%(int(ze)))\n",
    "    \n",
    "for ze in np.arange(63, 90, 5):\n",
    "    pyp.plot(psi_list, interpolator( ze, f_Lo_list[i_f_Lo], psi_list,)*1e6, \n",
    "             color=cmap(norm(ze)), linestyle='--', label=\"%d$^{\\circ}$\"%(int(ze)))\n",
    "pyp.xlabel(\" $\\psi$ (deg.)\")\n",
    "pyp.ylabel(\"Peak E-field ($\\mu V/m$)\")\n",
    "pyp.xlim(psi_list.min(), psi_list.max())\n",
    "pyp.ylim(0,)\n",
    "pyp.legend(loc=[1.01, 0.1])\n",
    "pyp.title(\"%d MHz\"%((int(f_Lo_list[i_f_Lo]))))\n",
    "pyp.savefig(os.environ['TAU_ACC_DETECTOR_PLOTS_DIR'] + \"/3dinterp_efield_maps_altitude%dkm_psi_fLo%dMHz.png\"%(h, int(f_Lo_list[i_f_Lo]))) "
   ]
  },
  {
   "cell_type": "code",
   "execution_count": null,
   "metadata": {},
   "outputs": [],
   "source": [
    "###########\n",
    "# Now check the 2D slices \n",
    "# comparing the original values\n",
    "# to the interpolated values\n",
    "### First plot will be epeak vs zenith angle vs psi angle for fixed starting frequ(ency\n",
    "choose_start_freq = [10., 30., 50., 200., 300., 1000.]\n",
    "titles = [\"%d MHz\"%(freq) for freq in choose_start_freq]\n",
    "fig = pyp.figure(1, figsize=(12,8))\n",
    "pyp.subplots_adjust(hspace=0.3, wspace=0.4)\n",
    "\n",
    "for i,freq in enumerate(choose_start_freq):\n",
    "    i_f_Lo = int(freq/10)\n",
    "    ax = pyp.subplot(2,3,i+1)\n",
    "    #ax.set_xscale('log')\n",
    "    #ax.set_yscale('log')\n",
    "    p, zenith = np.meshgrid( psi_list, zenith_list)\n",
    "    #H=epeak_array[:, ind[i_f_Lo], 0, :]*1e6\n",
    "    H = epeak_start_freq_slice(i_f_Lo, epeak_array)*1e6\n",
    "    Hmasked = np.ma.masked_where(H==0,H) # Mask pixels with a value of zero\n",
    "    pyp.pcolormesh(p, zenith, Hmasked, cmap='inferno', )\n",
    "    pyp.ylim(zenith_list.min(), zenith_list.max())\n",
    "    pyp.xlim(psi_list.min(), psi_list.max())\n",
    "    pyp.colorbar(label=\"Peak E-field ($\\mu V/m$)\")\n",
    "    pyp.ylabel('Zenith Angle (deg.)')\n",
    "    pyp.xlabel('$\\psi$ (deg.)')\n",
    "    pyp.grid(True, which='both')\n",
    "    pyp.title(titles[i])\n",
    "pyp.suptitle(\"Simulated Peak E-fields\")\n",
    "#pyp.savefig(os.environ['TAU_ACC_DETECTOR_PLOTS_DIR'] + \"/efield_maps_altitude%dkm_ze_vs_psi.png\"%(h) )\n",
    "\n",
    "choose_start_freq = [15., 35., 55., 205., 305., 1005.]\n",
    "#ind = [np.where(f_Lo_list == choose_start_freq[i])[0][0] for i in range(len(choose_start_freq))]\n",
    "ind = [1, 3, 5, 8, 20, 30]\n",
    "titles = [\"%d MHz\"%(freq) for freq in choose_start_freq]\n",
    "fig = pyp.figure(2, figsize=(12,8))\n",
    "pyp.subplots_adjust(hspace=0.3, wspace=0.4)\n",
    "\n",
    "interp_psi_list = np.arange(0.05, 3.2, 0.05)\n",
    "interp_zenith_list = np.arange(60, 90, 2.5)\n",
    "for i_f_Lo, freq in enumerate(choose_start_freq):\n",
    "    ax = pyp.subplot(2,3,i_f_Lo+1)\n",
    "    #ax.set_xscale('log')\n",
    "    #ax.set_yscale('log')\n",
    "    p, zenith = np.meshgrid( interp_psi_list, interp_zenith_list)\n",
    "    H = interpolator(zenith, freq, p)*1e6\n",
    "    Hmasked = np.ma.masked_where(H==0,H) # Mask pixels with a value of zero\n",
    "    pyp.pcolormesh(p, zenith, Hmasked, cmap='inferno', )\n",
    "    pyp.ylim(zenith_list.min(), zenith_list.max())\n",
    "    pyp.xlim(psi_list.min(), psi_list.max())\n",
    "    pyp.colorbar(label=\"Peak E-field ($\\mu V/m$)\")\n",
    "    pyp.ylabel('Zenith Angle (deg.)')\n",
    "    pyp.xlabel('$\\psi$ (deg.)')\n",
    "    pyp.grid(True, which='both')\n",
    "    pyp.title(titles[i_f_Lo])\n",
    "pyp.suptitle(\"Interpolated Peak E-fields\")\n",
    "pyp.savefig(os.environ['TAU_ACC_DETECTOR_PLOTS_DIR'] + \"/interp_efield_maps_altitude%dkm_ze_vs_psi.png\"%(h) )"
   ]
  },
  {
   "cell_type": "code",
   "execution_count": null,
   "metadata": {},
   "outputs": [],
   "source": [
    "### Second plot will be epeak vs zenith angle vs starting frequency for fixed psi angle\n",
    "ind = [0, 11, 27, 35, 47, 63]\n",
    "choose_psi = psi_list[ind]\n",
    "titles = [\"$\\psi$=%2.2f deg.\"%(p) for p in choose_psi]\n",
    "fig = pyp.figure(1, figsize=(12,8))\n",
    "pyp.subplots_adjust(hspace=0.3, wspace=0.4)\n",
    "\n",
    "for i, p in enumerate(choose_psi):\n",
    "    i_psi = ind[i]\n",
    "    ax = pyp.subplot(2,3,i+1)\n",
    "    ax.set_xscale('log')\n",
    "    #ax.set_yscale('log')\n",
    "    start_freq, zenith = np.meshgrid(  f_Lo_list, zenith_list)\n",
    "    #H=epeak_array[:, :, 0, i_psi]*1e6\n",
    "    H = epeak_psi_angle_slice(i_psi, epeak_array)*1e6\n",
    "    Hmasked = np.ma.masked_where(H==0,H) # Mask pixels with a value of zero\n",
    "    pyp.pcolormesh(start_freq, zenith, Hmasked, cmap='inferno', )\n",
    "    pyp.ylim(zenith_list.min(), zenith_list.max())\n",
    "    pyp.xlim(f_Lo_list.min(), f_Lo_list.max())\n",
    "    pyp.colorbar(label=\"Peak E-field ($\\mu V/m$)\")\n",
    "    pyp.ylabel('Zenith Angle (deg.)')\n",
    "    pyp.xlabel('Starting Frequency (MHz)')\n",
    "    pyp.grid(True, which='both')\n",
    "    pyp.title(titles[i])\n",
    "pyp.suptitle(\"Simulated Peak E-fields\")\n",
    "\n",
    "\n",
    "#pyp.savefig(os.environ['TAU_ACC_DETECTOR_PLOTS_DIR'] + \"/efield_maps_altitude%dkm_startfreq_vs_ze.png\"%(h) )\n",
    "choose_psi = [p + 0.03 for p in choose_psi]\n",
    "titles = [\"%2.2f$^{\\circ}$\"%(p) for p in choose_psi]\n",
    "fig = pyp.figure(2, figsize=(12,8))\n",
    "pyp.subplots_adjust(hspace=0.3, wspace=0.4)\n",
    "\n",
    "interp_freq_list = np.arange(15, 1600, 5)\n",
    "interp_zenith_list = np.arange(60, 90, 2.5)\n",
    "for i_psi, psi in enumerate(choose_psi):\n",
    "    ax = pyp.subplot(2,3,i_psi+1)\n",
    "    ax.set_xscale('log')\n",
    "    #ax.set_yscale('log')\n",
    "    freq, zenith = np.meshgrid( interp_freq_list, interp_zenith_list)\n",
    "    H = interpolator(zenith, freq, psi)*1e6\n",
    "    Hmasked = np.ma.masked_where(H==0,H) # Mask pixels with a value of zero\n",
    "    pyp.pcolormesh(freq, zenith, Hmasked, cmap='inferno', )\n",
    "    pyp.ylim(zenith_list.min(), zenith_list.max())\n",
    "    pyp.xlim(f_Lo_list.min(), f_Lo_list.max())\n",
    "    pyp.colorbar(label=\"Peak E-field ($\\mu V/m$)\")\n",
    "    pyp.ylabel('Zenith Angle (deg.)')\n",
    "    pyp.xlabel('$\\psi$ (deg.)')\n",
    "    pyp.grid(True, which='both')\n",
    "    pyp.title(titles[i_psi])\n",
    "pyp.suptitle(\"Interpolated Peak E-fields\")\n",
    "pyp.savefig(os.environ['TAU_ACC_DETECTOR_PLOTS_DIR'] + \"/interp_efield_maps_altitude%dkm_startfreq_vs_ze.png\"%(h) )"
   ]
  },
  {
   "cell_type": "code",
   "execution_count": null,
   "metadata": {},
   "outputs": [],
   "source": [
    "### Third plot will be epeak vs starting frequency vs psi_list for fixed psi angles\n",
    "ind = [0,1,2,3,4,5]\n",
    "choose_zenith = zenith_list[ind]\n",
    "titles = [\"Zenith %d deg.\"%(int(z)) for z in choose_zenith]\n",
    "fig = pyp.figure(1, figsize=(12,8))\n",
    "pyp.subplots_adjust(hspace=0.3, wspace=0.5)\n",
    "\n",
    "for i_ze, ze in enumerate(choose_zenith):\n",
    "    ax = pyp.subplot(2,3,i_ze+1)\n",
    "    #ax.set_xscale('log')\n",
    "    ax.set_yscale('log')\n",
    "    p, start_freq = np.meshgrid(psi_list, f_Lo_list)\n",
    "    #H=epeak_array[i_ze, :, 0, :]*1e6\n",
    "    H = epeak_zenith_angle_slice(i_ze, epeak_array)*1e6\n",
    "    Hmasked = np.ma.masked_where(H==0,H) # Mask pixels with a value of zero\n",
    "    pyp.pcolormesh( p,start_freq, Hmasked, cmap='inferno', )\n",
    "    pyp.xlim(psi_list.min(), psi_list.max())\n",
    "    pyp.ylim(f_Lo_list.min(), f_Lo_list.max())\n",
    "    pyp.colorbar(label=\"Peak E-field ($\\mu V/m$)\")\n",
    "    pyp.xlabel('$\\psi$ (deg.)')\n",
    "    pyp.ylabel('Start Frequency (MHz)')\n",
    "    pyp.grid(True, which='both')\n",
    "    pyp.title(titles[i_ze])\n",
    "#pyp.savefig(os.environ['TAU_ACC_DETECTOR_PLOTS_DIR'] + \"/efield_maps_altitude%dkm_startfreq_psi.png\"%(h) )\n",
    "\n",
    "choose_zenith = [62, 66, 72, 76, 82, 86 ]\n",
    "titles = [\"%2.2f$^{\\circ}$\"%(z) for z in choose_zenith]\n",
    "fig = pyp.figure(2, figsize=(12,8))\n",
    "pyp.subplots_adjust(hspace=0.3, wspace=0.4)\n",
    "\n",
    "interp_freq_list = np.arange(15, 1600, 5)\n",
    "interp_psi_list = np.arange(0.05, 3.2, 0.05)\n",
    "for i_ze, ze in enumerate(choose_zenith):\n",
    "    ax = pyp.subplot(2,3,i_ze+1)\n",
    "    #ax.set_xscale('log')\n",
    "    ax.set_yscale('log')\n",
    "    psi, freq = np.meshgrid( interp_psi_list, interp_freq_list)\n",
    "    H = interpolator(ze, freq, psi)*1e6\n",
    "    Hmasked = np.ma.masked_where(H==0,H) # Mask pixels with a value of zero\n",
    "    pyp.pcolormesh(psi, freq, Hmasked, cmap='inferno', )\n",
    "    pyp.xlim(psi_list.min(), psi_list.max())\n",
    "    pyp.ylim(f_Lo_list.min(), f_Lo_list.max())\n",
    "    pyp.colorbar(label=\"Peak E-field ($\\mu V/m$)\")\n",
    "    pyp.xlabel('$\\psi$ (deg.)')\n",
    "    pyp.ylabel('Start Frequency (MHz)')\n",
    "    pyp.grid(True, which='both')\n",
    "    pyp.title(titles[i_ze])\n",
    "pyp.suptitle(\"Interpolated Peak E-fields\")\n",
    "pyp.savefig(os.environ['TAU_ACC_DETECTOR_PLOTS_DIR'] + \"/interp_efield_maps_altitude%dkm_startfreq_psi.png\"%(h) )"
   ]
  },
  {
   "cell_type": "code",
   "execution_count": null,
   "metadata": {
    "collapsed": true
   },
   "outputs": [],
   "source": [
    "################\n",
    "def save_interpolator(interpolator, h):\n",
    "\tinterp_file = open(os.environ['TAU_ACC_ZHAIRES_DIR']\\\n",
    "                       +'/interpolator_efields_%dkm.npz'%h, 'w')\n",
    "\tnp.savez(interp_file, efield_interpolator=interpolator)\n",
    "\tinterp_file.close()"
   ]
  },
  {
   "cell_type": "code",
   "execution_count": null,
   "metadata": {
    "collapsed": true
   },
   "outputs": [],
   "source": [
    "#save_interpolator(interpolator, h)"
   ]
  },
  {
   "cell_type": "code",
   "execution_count": null,
   "metadata": {
    "collapsed": true
   },
   "outputs": [],
   "source": [
    "def load_interpolator(h):\n",
    "    # the interpolator is for 10-MHz subbands and \n",
    "    # is called as interpolator(zenith_angle, starting_frequency,psi_angle)\n",
    "    # zenith angle is the shower zenith angle in deg.\n",
    "    # staring_frequency is the lowest frequency in the band in MHz\n",
    "    # psi_angle is the angel off the shower axis, \n",
    "    # equivalent to view angle in deg.\n",
    "    interp_file = np.load(os.environ['TAU_ACC_ZHAIRES_DIR']\\\n",
    "                       +'/interpolator_efields_%dkm.npz'%h)\n",
    "    return interp_file['efield_interpolator'][()]"
   ]
  },
  {
   "cell_type": "code",
   "execution_count": null,
   "metadata": {},
   "outputs": [],
   "source": [
    "interpolator = load_interpolator(3)"
   ]
  },
  {
   "cell_type": "code",
   "execution_count": null,
   "metadata": {},
   "outputs": [],
   "source": [
    "%%prun \n",
    "for i in range(10000):\n",
    "    a = 2 + 3"
   ]
  },
  {
   "cell_type": "code",
   "execution_count": null,
   "metadata": {},
   "outputs": [],
   "source": [
    "%%prun \n",
    "for i in range(10000):\n",
    "    a= interpolator(70, 400, 0.06)"
   ]
  },
  {
   "cell_type": "code",
   "execution_count": null,
   "metadata": {
    "collapsed": true
   },
   "outputs": [],
   "source": [
    "\n",
    "interp_file = np.load(os.environ['TAU_ACC_ZHAIRES_DIR']\\\n",
    "                       +'/interpolator_efields_%dkm.npz'%h)"
   ]
  },
  {
   "cell_type": "code",
   "execution_count": null,
   "metadata": {},
   "outputs": [],
   "source": [
    "print interp_file.keys(), h\n",
    "interp = interp_file['efield_interpolator_list']"
   ]
  },
  {
   "cell_type": "code",
   "execution_count": null,
   "metadata": {},
   "outputs": [],
   "source": [
    "%%prun\n",
    "for i in range(10000):\n",
    "    a= interp[0](70,0.06)"
   ]
  },
  {
   "cell_type": "code",
   "execution_count": null,
   "metadata": {},
   "outputs": [],
   "source": [
    "%%prun\n",
    "zen = np.linspace(65.,85.,10000)\n",
    "psi = np.linspace(0.04,1.2,10000)\n",
    "a= interp[0](zen,psi)"
   ]
  },
  {
   "cell_type": "code",
   "execution_count": null,
   "metadata": {},
   "outputs": [],
   "source": [
    "interp[0](85., 1.3)"
   ]
  },
  {
   "cell_type": "code",
   "execution_count": null,
   "metadata": {
    "collapsed": true
   },
   "outputs": [],
   "source": []
  }
 ],
 "metadata": {
  "kernelspec": {
   "display_name": "Python 2",
   "language": "python",
   "name": "python2"
  },
  "language_info": {
   "codemirror_mode": {
    "name": "ipython",
    "version": 2
   },
   "file_extension": ".py",
   "mimetype": "text/x-python",
   "name": "python",
   "nbconvert_exporter": "python",
   "pygments_lexer": "ipython2",
   "version": "2.7.13"
  }
 },
 "nbformat": 4,
 "nbformat_minor": 1
}
